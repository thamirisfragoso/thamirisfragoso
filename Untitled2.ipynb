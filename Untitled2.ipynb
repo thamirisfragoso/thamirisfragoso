{
  "nbformat": 4,
  "nbformat_minor": 0,
  "metadata": {
    "colab": {
      "name": "Untitled2.ipynb",
      "provenance": [],
      "collapsed_sections": []
    },
    "kernelspec": {
      "name": "python3",
      "display_name": "Python 3"
    },
    "language_info": {
      "name": "python"
    }
  },
  "cells": [
    {
      "cell_type": "code",
      "metadata": {
        "colab": {
          "base_uri": "https://localhost:8080/"
        },
        "id": "0HDA7wBebosx",
        "outputId": "fbcfb73b-4751-4105-d69b-8848e7d6fefa"
      },
      "source": [
        "salario_mensal = input\n",
        "salario_mensal = float(input(\"escreva o valor do salário:\"))\n",
        "horas_trabalhadas_por_mes = input\n",
        "horas_trabalhadas_por_mes = float(input(\"escreva horas trabalhadas:\"))\n",
        "valor_hora = salario_mensal/ horas_trabalhadas_por_mes\n",
        "print (valor_hora)\n",
        "\n",
        "\n",
        "\n"
      ],
      "execution_count": 1,
      "outputs": [
        {
          "output_type": "stream",
          "name": "stdout",
          "text": [
            "escreva o valor do salário:1500\n",
            "escreva horas trabalhadas:44\n",
            "34.09090909090909\n"
          ]
        }
      ]
    }
  ]
}